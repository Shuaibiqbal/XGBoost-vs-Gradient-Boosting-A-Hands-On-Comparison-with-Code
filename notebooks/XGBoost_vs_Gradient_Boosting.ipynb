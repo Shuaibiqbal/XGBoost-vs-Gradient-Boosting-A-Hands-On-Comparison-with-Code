{
 "cells": [
  {
   "cell_type": "markdown",
   "metadata": {},
   "source": []
  },
  {
   "cell_type": "markdown",
   "metadata": {},
   "source": [
    "# 🔥 1. What is Gradient Boosting?\n",
    "\n",
    "**Gradient Boosting is an ensemble(jorna) technique where:**\n",
    "  * Models (typically decision trees) are added one at a time.\n",
    "\n",
    "  * Each new tree tries to correct the errors made by the previous trees.\n",
    "\n",
    "  * It minimizes a loss function using gradient descent.\n",
    "\n",
    "**🧠 Think of it as:**\n",
    "\"Make a prediction → See where you're wrong → Train a new tree to fix those errors → Repeat.\"\n",
    "\n"
   ]
  },
  {
   "cell_type": "markdown",
   "metadata": {},
   "source": [
    "### 🛠 Gradient Boosting Flow:\n",
    "  * Start with an initial model (say, mean of target).\n",
    "\n",
    "  * Calculate the residuals (errors).\n",
    "\n",
    "  * Train a tree on the residuals.\n",
    "\n",
    "  * Add this tree to the model prediction.\n",
    "\n",
    "  * Repeat the process multiple times."
   ]
  },
  {
   "cell_type": "markdown",
   "metadata": {},
   "source": [
    "## Gradient Boosting using GradientBoostingClassifier\n",
    "**We'll use the Breast Cancer dataset from sklearn:**"
   ]
  },
  {
   "cell_type": "code",
   "execution_count": null,
   "metadata": {},
   "outputs": [],
   "source": []
  }
 ],
 "metadata": {
  "kernelspec": {
   "display_name": "myenv",
   "language": "python",
   "name": "python3"
  },
  "language_info": {
   "codemirror_mode": {
    "name": "ipython",
    "version": 3
   },
   "file_extension": ".py",
   "mimetype": "text/x-python",
   "name": "python",
   "nbconvert_exporter": "python",
   "pygments_lexer": "ipython3",
   "version": "3.10.13"
  }
 },
 "nbformat": 4,
 "nbformat_minor": 2
}
